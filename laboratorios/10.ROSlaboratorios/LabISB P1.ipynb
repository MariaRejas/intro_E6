{
  "nbformat": 4,
  "nbformat_minor": 0,
  "metadata": {
    "colab": {
      "provenance": []
    },
    "kernelspec": {
      "name": "python3",
      "display_name": "Python 3"
    },
    "language_info": {
      "name": "python"
    }
  },
  "cells": [
    {
      "cell_type": "markdown",
      "metadata": {
        "id": "view-in-github"
      },
      "source": [
        "<a href=\"https://colab.research.google.com/github/ulewis/FdD/blob/main/Balanceo%20ROS.ipynb\" target=\"_parent\"><img src=\"https://colab.research.google.com/assets/colab-badge.svg\" alt=\"Open In Colab\"/></a>"
      ]
    },
    {
      "cell_type": "code",
      "execution_count": 1333,
      "metadata": {
        "id": "zEIElR2pCGGl"
      },
      "outputs": [],
      "source": [
        "# Importamos librerias\n",
        "import numpy as np\n",
        "import pandas as pd\n",
        "import matplotlib.pyplot as plt\n",
        "import seaborn as sns\n",
        "import statsmodels.api as sm\n",
        "from sklearn.preprocessing import PolynomialFeatures"
      ]
    },
    {
      "cell_type": "code",
      "source": [
        "# Extraemos datos\n",
        "data='para volumen 4ta vuelta.csv'"
      ],
      "metadata": {
        "id": "mVnDxADwCrbz"
      },
      "execution_count": 1334,
      "outputs": []
    },
    {
      "cell_type": "code",
      "source": [
        "#visualizamos el dataset\n",
        "df= pd.read_csv(data)\n",
        "df.head()"
      ],
      "metadata": {
        "id": "BOYcE2yICugj",
        "colab": {
          "base_uri": "https://localhost:8080/",
          "height": 206
        },
        "outputId": "d31f966b-3a1e-4bf2-f2b2-604179772e7d"
      },
      "execution_count": 1335,
      "outputs": [
        {
          "output_type": "execute_result",
          "data": {
            "text/plain": [
              "    C  Rp  Dif_vol  V_in  V_out  P_ventilador   PIP  Error_aceptable\n",
              "0  20  20     -2.7   350  352.7          27.6  25.5                1\n",
              "1  20  20     -4.7   350  354.7          30.3  30.2                1\n",
              "2  20  20      1.2   350  348.8          32.0  33.0                1\n",
              "3  20  20      3.1   400  396.9          30.3  29.4                1\n",
              "4  20  20     -7.0   400  407.0          33.9  34.3                1"
            ],
            "text/html": [
              "\n",
              "  <div id=\"df-f6975a6c-76d1-497d-a914-a561f62829df\">\n",
              "    <div class=\"colab-df-container\">\n",
              "      <div>\n",
              "<style scoped>\n",
              "    .dataframe tbody tr th:only-of-type {\n",
              "        vertical-align: middle;\n",
              "    }\n",
              "\n",
              "    .dataframe tbody tr th {\n",
              "        vertical-align: top;\n",
              "    }\n",
              "\n",
              "    .dataframe thead th {\n",
              "        text-align: right;\n",
              "    }\n",
              "</style>\n",
              "<table border=\"1\" class=\"dataframe\">\n",
              "  <thead>\n",
              "    <tr style=\"text-align: right;\">\n",
              "      <th></th>\n",
              "      <th>C</th>\n",
              "      <th>Rp</th>\n",
              "      <th>Dif_vol</th>\n",
              "      <th>V_in</th>\n",
              "      <th>V_out</th>\n",
              "      <th>P_ventilador</th>\n",
              "      <th>PIP</th>\n",
              "      <th>Error_aceptable</th>\n",
              "    </tr>\n",
              "  </thead>\n",
              "  <tbody>\n",
              "    <tr>\n",
              "      <th>0</th>\n",
              "      <td>20</td>\n",
              "      <td>20</td>\n",
              "      <td>-2.7</td>\n",
              "      <td>350</td>\n",
              "      <td>352.7</td>\n",
              "      <td>27.6</td>\n",
              "      <td>25.5</td>\n",
              "      <td>1</td>\n",
              "    </tr>\n",
              "    <tr>\n",
              "      <th>1</th>\n",
              "      <td>20</td>\n",
              "      <td>20</td>\n",
              "      <td>-4.7</td>\n",
              "      <td>350</td>\n",
              "      <td>354.7</td>\n",
              "      <td>30.3</td>\n",
              "      <td>30.2</td>\n",
              "      <td>1</td>\n",
              "    </tr>\n",
              "    <tr>\n",
              "      <th>2</th>\n",
              "      <td>20</td>\n",
              "      <td>20</td>\n",
              "      <td>1.2</td>\n",
              "      <td>350</td>\n",
              "      <td>348.8</td>\n",
              "      <td>32.0</td>\n",
              "      <td>33.0</td>\n",
              "      <td>1</td>\n",
              "    </tr>\n",
              "    <tr>\n",
              "      <th>3</th>\n",
              "      <td>20</td>\n",
              "      <td>20</td>\n",
              "      <td>3.1</td>\n",
              "      <td>400</td>\n",
              "      <td>396.9</td>\n",
              "      <td>30.3</td>\n",
              "      <td>29.4</td>\n",
              "      <td>1</td>\n",
              "    </tr>\n",
              "    <tr>\n",
              "      <th>4</th>\n",
              "      <td>20</td>\n",
              "      <td>20</td>\n",
              "      <td>-7.0</td>\n",
              "      <td>400</td>\n",
              "      <td>407.0</td>\n",
              "      <td>33.9</td>\n",
              "      <td>34.3</td>\n",
              "      <td>1</td>\n",
              "    </tr>\n",
              "  </tbody>\n",
              "</table>\n",
              "</div>\n",
              "      <button class=\"colab-df-convert\" onclick=\"convertToInteractive('df-f6975a6c-76d1-497d-a914-a561f62829df')\"\n",
              "              title=\"Convert this dataframe to an interactive table.\"\n",
              "              style=\"display:none;\">\n",
              "        \n",
              "  <svg xmlns=\"http://www.w3.org/2000/svg\" height=\"24px\"viewBox=\"0 0 24 24\"\n",
              "       width=\"24px\">\n",
              "    <path d=\"M0 0h24v24H0V0z\" fill=\"none\"/>\n",
              "    <path d=\"M18.56 5.44l.94 2.06.94-2.06 2.06-.94-2.06-.94-.94-2.06-.94 2.06-2.06.94zm-11 1L8.5 8.5l.94-2.06 2.06-.94-2.06-.94L8.5 2.5l-.94 2.06-2.06.94zm10 10l.94 2.06.94-2.06 2.06-.94-2.06-.94-.94-2.06-.94 2.06-2.06.94z\"/><path d=\"M17.41 7.96l-1.37-1.37c-.4-.4-.92-.59-1.43-.59-.52 0-1.04.2-1.43.59L10.3 9.45l-7.72 7.72c-.78.78-.78 2.05 0 2.83L4 21.41c.39.39.9.59 1.41.59.51 0 1.02-.2 1.41-.59l7.78-7.78 2.81-2.81c.8-.78.8-2.07 0-2.86zM5.41 20L4 18.59l7.72-7.72 1.47 1.35L5.41 20z\"/>\n",
              "  </svg>\n",
              "      </button>\n",
              "      \n",
              "  <style>\n",
              "    .colab-df-container {\n",
              "      display:flex;\n",
              "      flex-wrap:wrap;\n",
              "      gap: 12px;\n",
              "    }\n",
              "\n",
              "    .colab-df-convert {\n",
              "      background-color: #E8F0FE;\n",
              "      border: none;\n",
              "      border-radius: 50%;\n",
              "      cursor: pointer;\n",
              "      display: none;\n",
              "      fill: #1967D2;\n",
              "      height: 32px;\n",
              "      padding: 0 0 0 0;\n",
              "      width: 32px;\n",
              "    }\n",
              "\n",
              "    .colab-df-convert:hover {\n",
              "      background-color: #E2EBFA;\n",
              "      box-shadow: 0px 1px 2px rgba(60, 64, 67, 0.3), 0px 1px 3px 1px rgba(60, 64, 67, 0.15);\n",
              "      fill: #174EA6;\n",
              "    }\n",
              "\n",
              "    [theme=dark] .colab-df-convert {\n",
              "      background-color: #3B4455;\n",
              "      fill: #D2E3FC;\n",
              "    }\n",
              "\n",
              "    [theme=dark] .colab-df-convert:hover {\n",
              "      background-color: #434B5C;\n",
              "      box-shadow: 0px 1px 3px 1px rgba(0, 0, 0, 0.15);\n",
              "      filter: drop-shadow(0px 1px 2px rgba(0, 0, 0, 0.3));\n",
              "      fill: #FFFFFF;\n",
              "    }\n",
              "  </style>\n",
              "\n",
              "      <script>\n",
              "        const buttonEl =\n",
              "          document.querySelector('#df-f6975a6c-76d1-497d-a914-a561f62829df button.colab-df-convert');\n",
              "        buttonEl.style.display =\n",
              "          google.colab.kernel.accessAllowed ? 'block' : 'none';\n",
              "\n",
              "        async function convertToInteractive(key) {\n",
              "          const element = document.querySelector('#df-f6975a6c-76d1-497d-a914-a561f62829df');\n",
              "          const dataTable =\n",
              "            await google.colab.kernel.invokeFunction('convertToInteractive',\n",
              "                                                     [key], {});\n",
              "          if (!dataTable) return;\n",
              "\n",
              "          const docLinkHtml = 'Like what you see? Visit the ' +\n",
              "            '<a target=\"_blank\" href=https://colab.research.google.com/notebooks/data_table.ipynb>data table notebook</a>'\n",
              "            + ' to learn more about interactive tables.';\n",
              "          element.innerHTML = '';\n",
              "          dataTable['output_type'] = 'display_data';\n",
              "          await google.colab.output.renderOutput(dataTable, element);\n",
              "          const docLink = document.createElement('div');\n",
              "          docLink.innerHTML = docLinkHtml;\n",
              "          element.appendChild(docLink);\n",
              "        }\n",
              "      </script>\n",
              "    </div>\n",
              "  </div>\n",
              "  "
            ]
          },
          "metadata": {},
          "execution_count": 1335
        }
      ]
    },
    {
      "cell_type": "code",
      "source": [
        "#Revisamos dimension de la data\n",
        "df.shape"
      ],
      "metadata": {
        "id": "Xh_0dbGSHFLe",
        "colab": {
          "base_uri": "https://localhost:8080/"
        },
        "outputId": "1485488f-4928-4097-8614-fe1156dfb0f5"
      },
      "execution_count": 1336,
      "outputs": [
        {
          "output_type": "execute_result",
          "data": {
            "text/plain": [
              "(69, 8)"
            ]
          },
          "metadata": {},
          "execution_count": 1336
        }
      ]
    },
    {
      "cell_type": "code",
      "source": [
        "#filtramos decartando columnas con datos faltantes\n",
        "d_filtrado = df.dropna().copy() "
      ],
      "metadata": {
        "id": "LTR4WDw4DBRG"
      },
      "execution_count": 1337,
      "outputs": []
    },
    {
      "cell_type": "code",
      "source": [
        "#Verificamos cuantos valores tenemos de Rp\n",
        "d_filtrado.V_out.unique()"
      ],
      "metadata": {
        "id": "rNTXQtVeEU7L",
        "colab": {
          "base_uri": "https://localhost:8080/"
        },
        "outputId": "5f928b3f-8242-4e51-c8d9-09f0d5cc2954"
      },
      "execution_count": 1338,
      "outputs": [
        {
          "output_type": "execute_result",
          "data": {
            "text/plain": [
              "array([352.7, 354.7, 348.8, 396.9, 407. , 401.6, 442.2, 455.5, 451.2,\n",
              "       482.2, 492. , 494.5, 541.7, 549.6, 558.5, 597.3, 599. , 612.5,\n",
              "       327.8, 307.5, 303.2, 375. , 360.8, 358.6, 419.6, 408.8, 407.5,\n",
              "       455.2, 457.3, 461.5, 518.2, 515.8, 524.4, 574. , 571.6, 296.8,\n",
              "       281.3, 277.5, 335.2, 332.8, 330.7, 382. , 377. , 383. , 436.4,\n",
              "       429.6, 436.5, 498.1, 496.1, 499.6, 552. , 548.8, 269. , 302.6,\n",
              "       302.7, 303. , 344.1, 344.2, 389.1, 396.6, 386.5, 435.7, 452.7,\n",
              "       487.9, 509.7, 527. , 544.5, 559.9])"
            ]
          },
          "metadata": {},
          "execution_count": 1338
        }
      ]
    },
    {
      "cell_type": "code",
      "source": [
        "#revisamos de la data filtrada\n",
        "d_filtrado.shape"
      ],
      "metadata": {
        "id": "sbUiObJ-G-It",
        "colab": {
          "base_uri": "https://localhost:8080/"
        },
        "outputId": "fd532076-edd1-400d-d6fd-1c8f26609312"
      },
      "execution_count": 1339,
      "outputs": [
        {
          "output_type": "execute_result",
          "data": {
            "text/plain": [
              "(69, 8)"
            ]
          },
          "metadata": {},
          "execution_count": 1339
        }
      ]
    },
    {
      "cell_type": "code",
      "source": [
        "#contar valores\n",
        "d_filtrado['Error_aceptable'].value_counts()"
      ],
      "metadata": {
        "colab": {
          "base_uri": "https://localhost:8080/"
        },
        "id": "Lmkg-dxmErki",
        "outputId": "280a8d11-cdd9-4fb0-8fc1-2c3c32270dad"
      },
      "execution_count": 1340,
      "outputs": [
        {
          "output_type": "execute_result",
          "data": {
            "text/plain": [
              "1    53\n",
              "0    16\n",
              "Name: Error_aceptable, dtype: int64"
            ]
          },
          "metadata": {},
          "execution_count": 1340
        }
      ]
    },
    {
      "cell_type": "code",
      "source": [
        "#revisamos proporción\n",
        "d_filtrado['Error_aceptable'].value_counts()/len(d_filtrado)"
      ],
      "metadata": {
        "colab": {
          "base_uri": "https://localhost:8080/"
        },
        "id": "C5IKNZaBGQgp",
        "outputId": "9cbfa3cb-cb36-4e82-979a-fa41fccfd274"
      },
      "execution_count": 1341,
      "outputs": [
        {
          "output_type": "execute_result",
          "data": {
            "text/plain": [
              "1    0.768116\n",
              "0    0.231884\n",
              "Name: Error_aceptable, dtype: float64"
            ]
          },
          "metadata": {},
          "execution_count": 1341
        }
      ]
    },
    {
      "cell_type": "code",
      "source": [
        "#observamos el desbalance de datos\n",
        "p=sns.catplot(data = d_filtrado, kind ='count', x= 'Error_aceptable')\n",
        "p.set(title = \"clases\")"
      ],
      "metadata": {
        "colab": {
          "base_uri": "https://localhost:8080/",
          "height": 546
        },
        "id": "Yk15ok2eGrTv",
        "outputId": "3e034281-7041-4394-9a3c-b90152d8aea9"
      },
      "execution_count": 1342,
      "outputs": [
        {
          "output_type": "execute_result",
          "data": {
            "text/plain": [
              "<seaborn.axisgrid.FacetGrid at 0x7f15e48f8b50>"
            ]
          },
          "metadata": {},
          "execution_count": 1342
        },
        {
          "output_type": "display_data",
          "data": {
            "text/plain": [
              "<Figure size 500x500 with 1 Axes>"
            ],
            "image/png": "[encoded data removed]"
          },
          "metadata": {}
        }
      ]
    },
    {
      "cell_type": "code",
      "source": [
        "# definimos la matriz de caracteristicas\n",
        "x = d_filtrado.loc[:,['PIP','V_out']]\n",
        "y = d_filtrado['Error_aceptable']"
      ],
      "metadata": {
        "id": "z4KMzhikIbS0"
      },
      "execution_count": 1343,
      "outputs": []
    },
    {
      "cell_type": "code",
      "source": [
        "print(len(y[y==0]))\n",
        "print(len(y[y==1]))"
      ],
      "metadata": {
        "colab": {
          "base_uri": "https://localhost:8080/"
        },
        "id": "ix9gNZbKKmIq",
        "outputId": "a1f5cccf-7933-4f42-9d07-5397e4374735"
      },
      "execution_count": 1344,
      "outputs": [
        {
          "output_type": "stream",
          "name": "stdout",
          "text": [
            "16\n",
            "53\n"
          ]
        }
      ]
    },
    {
      "cell_type": "code",
      "source": [
        "#divimos la data en conjunto de entranimiento y test\n",
        "from sklearn.model_selection import train_test_split\n",
        "x_train, x_test, y_train, y_test = train_test_split(x,y, test_size = 0.25, random_state = 0)\n",
        "print(len(x_train),len(x_test))\n",
        "print(len(y_train),len(y_test))\n"
      ],
      "metadata": {
        "colab": {
          "base_uri": "https://localhost:8080/"
        },
        "id": "WK9tevgdIvc1",
        "outputId": "b5010d4d-0034-4342-8e1b-fc5fe54b77f6"
      },
      "execution_count": 1345,
      "outputs": [
        {
          "output_type": "stream",
          "name": "stdout",
          "text": [
            "51 18\n",
            "51 18\n"
          ]
        }
      ]
    },
    {
      "cell_type": "code",
      "source": [
        "print(len(y_train[y_train==0]))\n",
        "print(len(y_train[y_train==1]))\n"
      ],
      "metadata": {
        "colab": {
          "base_uri": "https://localhost:8080/"
        },
        "id": "5lRVjDh6J35z",
        "outputId": "f39c853b-3895-4ea8-bb77-5f7a29be8838"
      },
      "execution_count": 1346,
      "outputs": [
        {
          "output_type": "stream",
          "name": "stdout",
          "text": [
            "11\n",
            "40\n"
          ]
        }
      ]
    },
    {
      "cell_type": "code",
      "source": [
        "# Estandarización de características\n",
        "from sklearn.preprocessing import StandardScaler\n",
        "sc_x = StandardScaler()\n",
        "x_train = sc_x.fit_transform(x_train)\n",
        "x_test = sc_x.transform(x_test)"
      ],
      "metadata": {
        "id": "3EeFcaLRK5X-"
      },
      "execution_count": 1347,
      "outputs": []
    },
    {
      "cell_type": "code",
      "source": [
        "print(df.head())"
      ],
      "metadata": {
        "colab": {
          "base_uri": "https://localhost:8080/"
        },
        "id": "nL4ifhN6TtWT",
        "outputId": "7b72ce9f-8ce2-4dac-e6e8-3c833e65a695"
      },
      "execution_count": 1348,
      "outputs": [
        {
          "output_type": "stream",
          "name": "stdout",
          "text": [
            "    C  Rp  Dif_vol  V_in  V_out  P_ventilador   PIP  Error_aceptable\n",
            "0  20  20     -2.7   350  352.7          27.6  25.5                1\n",
            "1  20  20     -4.7   350  354.7          30.3  30.2                1\n",
            "2  20  20      1.2   350  348.8          32.0  33.0                1\n",
            "3  20  20      3.1   400  396.9          30.3  29.4                1\n",
            "4  20  20     -7.0   400  407.0          33.9  34.3                1\n"
          ]
        }
      ]
    },
    {
      "cell_type": "markdown",
      "source": [
        "REGRESIÓN LOGISTICA"
      ],
      "metadata": {
        "id": "y4-430_VLrAg"
      }
    },
    {
      "cell_type": "code",
      "source": [
        "from sklearn.linear_model import LogisticRegression\n",
        "regLog = LogisticRegression(random_state = 0)\n",
        "regLog.fit(x_train,y_train)"
      ],
      "metadata": {
        "colab": {
          "base_uri": "https://localhost:8080/",
          "height": 75
        },
        "id": "JH8q8bgrLp0T",
        "outputId": "656a512b-aa81-4279-e34f-0a113d7d3a18"
      },
      "execution_count": 1349,
      "outputs": [
        {
          "output_type": "execute_result",
          "data": {
            "text/plain": [
              "LogisticRegression(random_state=0)"
            ],
            "text/html": [
              "<style>#sk-container-id-59 {color: black;background-color: white;}#sk-container-id-59 pre{padding: 0;}#sk-container-id-59 div.sk-toggleable {background-color: white;}#sk-container-id-59 label.sk-toggleable__label {cursor: pointer;display: block;width: 100%;margin-bottom: 0;padding: 0.3em;box-sizing: border-box;text-align: center;}#sk-container-id-59 label.sk-toggleable__label-arrow:before {content: \"▸\";float: left;margin-right: 0.25em;color: #696969;}#sk-container-id-59 label.sk-toggleable__label-arrow:hover:before {color: black;}#sk-container-id-59 div.sk-estimator:hover label.sk-toggleable__label-arrow:before {color: black;}#sk-container-id-59 div.sk-toggleable__content {max-height: 0;max-width: 0;overflow: hidden;text-align: left;background-color: #f0f8ff;}#sk-container-id-59 div.sk-toggleable__content pre {margin: 0.2em;color: black;border-radius: 0.25em;background-color: #f0f8ff;}#sk-container-id-59 input.sk-toggleable__control:checked~div.sk-toggleable__content {max-height: 200px;max-width: 100%;overflow: auto;}#sk-container-id-59 input.sk-toggleable__control:checked~label.sk-toggleable__label-arrow:before {content: \"▾\";}#sk-container-id-59 div.sk-estimator input.sk-toggleable__control:checked~label.sk-toggleable__label {background-color: #d4ebff;}#sk-container-id-59 div.sk-label input.sk-toggleable__control:checked~label.sk-toggleable__label {background-color: #d4ebff;}#sk-container-id-59 input.sk-hidden--visually {border: 0;clip: rect(1px 1px 1px 1px);clip: rect(1px, 1px, 1px, 1px);height: 1px;margin: -1px;overflow: hidden;padding: 0;position: absolute;width: 1px;}#sk-container-id-59 div.sk-estimator {font-family: monospace;background-color: #f0f8ff;border: 1px dotted black;border-radius: 0.25em;box-sizing: border-box;margin-bottom: 0.5em;}#sk-container-id-59 div.sk-estimator:hover {background-color: #d4ebff;}#sk-container-id-59 div.sk-parallel-item::after {content: \"\";width: 100%;border-bottom: 1px solid gray;flex-grow: 1;}#sk-container-id-59 div.sk-label:hover label.sk-toggleable__label {background-color: #d4ebff;}#sk-container-id-59 div.sk-serial::before {content: \"\";position: absolute;border-left: 1px solid gray;box-sizing: border-box;top: 0;bottom: 0;left: 50%;z-index: 0;}#sk-container-id-59 div.sk-serial {display: flex;flex-direction: column;align-items: center;background-color: white;padding-right: 0.2em;padding-left: 0.2em;position: relative;}#sk-container-id-59 div.sk-item {position: relative;z-index: 1;}#sk-container-id-59 div.sk-parallel {display: flex;align-items: stretch;justify-content: center;background-color: white;position: relative;}#sk-container-id-59 div.sk-item::before, #sk-container-id-59 div.sk-parallel-item::before {content: \"\";position: absolute;border-left: 1px solid gray;box-sizing: border-box;top: 0;bottom: 0;left: 50%;z-index: -1;}#sk-container-id-59 div.sk-parallel-item {display: flex;flex-direction: column;z-index: 1;position: relative;background-color: white;}#sk-container-id-59 div.sk-parallel-item:first-child::after {align-self: flex-end;width: 50%;}#sk-container-id-59 div.sk-parallel-item:last-child::after {align-self: flex-start;width: 50%;}#sk-container-id-59 div.sk-parallel-item:only-child::after {width: 0;}#sk-container-id-59 div.sk-dashed-wrapped {border: 1px dashed gray;margin: 0 0.4em 0.5em 0.4em;box-sizing: border-box;padding-bottom: 0.4em;background-color: white;}#sk-container-id-59 div.sk-label label {font-family: monospace;font-weight: bold;display: inline-block;line-height: 1.2em;}#sk-container-id-59 div.sk-label-container {text-align: center;}#sk-container-id-59 div.sk-container {/* jupyter's `normalize.less` sets `[hidden] { display: none; }` but bootstrap.min.css set `[hidden] { display: none !important; }` so we also need the `!important` here to be able to override the default hidden behavior on the sphinx rendered scikit-learn.org. See: https://github.com/scikit-learn/scikit-learn/issues/21755 */display: inline-block !important;position: relative;}#sk-container-id-59 div.sk-text-repr-fallback {display: none;}</style><div id=\"sk-container-id-59\" class=\"sk-top-container\"><div class=\"sk-text-repr-fallback\"><pre>LogisticRegression(random_state=0)</pre><b>In a Jupyter environment, please rerun this cell to show the HTML representation or trust the notebook. <br />On GitHub, the HTML representation is unable to render, please try loading this page with nbviewer.org.</b></div><div class=\"sk-container\" hidden><div class=\"sk-item\"><div class=\"sk-estimator sk-toggleable\"><input class=\"sk-toggleable__control sk-hidden--visually\" id=\"sk-estimator-id-59\" type=\"checkbox\" checked><label for=\"sk-estimator-id-59\" class=\"sk-toggleable__label sk-toggleable__label-arrow\">LogisticRegression</label><div class=\"sk-toggleable__content\"><pre>LogisticRegression(random_state=0)</pre></div></div></div></div></div>"
            ]
          },
          "metadata": {},
          "execution_count": 1349
        }
      ]
    },
    {
      "cell_type": "code",
      "source": [
        "# Se anñade una columna constante para el término de intercepción\n",
        "x_train_with_const = sm.add_constant(x_train)\n",
        "\n",
        "# Crear un modelo logístico con statsmodels\n",
        "logit_model = sm.Logit(y_train, x_train_with_const)\n",
        "\n",
        "# Ajustar el modelo\n",
        "result = logit_model.fit()\n",
        "\n",
        "# Obtener los coeficientes y los p-valores\n",
        "coefficients = result.params\n",
        "p_values = result.pvalues\n",
        "\n",
        "print(\"Coeficientes:\")\n",
        "print(coefficients)\n",
        "print(\"\\nP-valores:\")\n",
        "print(p_values)"
      ],
      "metadata": {
        "colab": {
          "base_uri": "https://localhost:8080/"
        },
        "id": "vo4gt6T7JZz-",
        "outputId": "d093b24e-d834-4f83-882d-c09e315b4d17"
      },
      "execution_count": 1350,
      "outputs": [
        {
          "output_type": "stream",
          "name": "stdout",
          "text": [
            "Optimization terminated successfully.\n",
            "         Current function value: 0.350778\n",
            "         Iterations 8\n",
            "Coeficientes:\n",
            "const    2.338961\n",
            "x1      -0.143121\n",
            "x2       2.267015\n",
            "dtype: float64\n",
            "\n",
            "P-valores:\n",
            "const    0.001027\n",
            "x1       0.796362\n",
            "x2       0.005182\n",
            "dtype: float64\n"
          ]
        }
      ]
    },
    {
      "cell_type": "code",
      "source": [
        "score = regLog.score(x_test, y_test)\n",
        "round(score,4)"
      ],
      "metadata": {
        "colab": {
          "base_uri": "https://localhost:8080/"
        },
        "id": "Cco9V8ABMI4O",
        "outputId": "9c0bd617-4bc8-4fd2-ac3b-8af417cb8ba8"
      },
      "execution_count": 1351,
      "outputs": [
        {
          "output_type": "execute_result",
          "data": {
            "text/plain": [
              "0.7778"
            ]
          },
          "metadata": {},
          "execution_count": 1351
        }
      ]
    },
    {
      "cell_type": "code",
      "source": [
        "y_pred = regLog.predict(x_test)"
      ],
      "metadata": {
        "id": "e4xBNBH0MWb7"
      },
      "execution_count": 1352,
      "outputs": []
    },
    {
      "cell_type": "code",
      "source": [
        "from sklearn.metrics import classification_report, confusion_matrix\n",
        "print(classification_report(y_test, y_pred))"
      ],
      "metadata": {
        "colab": {
          "base_uri": "https://localhost:8080/"
        },
        "id": "4s7Oz8TRMnMB",
        "outputId": "bfd69e27-2c4d-437c-af7f-c6d2dfcbcd68"
      },
      "execution_count": 1353,
      "outputs": [
        {
          "output_type": "stream",
          "name": "stdout",
          "text": [
            "              precision    recall  f1-score   support\n",
            "\n",
            "           0       1.00      0.20      0.33         5\n",
            "           1       0.76      1.00      0.87        13\n",
            "\n",
            "    accuracy                           0.78        18\n",
            "   macro avg       0.88      0.60      0.60        18\n",
            "weighted avg       0.83      0.78      0.72        18\n",
            "\n"
          ]
        }
      ]
    },
    {
      "cell_type": "code",
      "source": [
        "cm = confusion_matrix(y_test, y_pred)\n",
        "print(cm)"
      ],
      "metadata": {
        "colab": {
          "base_uri": "https://localhost:8080/"
        },
        "id": "SBUdo89uNGfQ",
        "outputId": "dfeb6066-f211-410e-ac2e-f009410b8b7a"
      },
      "execution_count": 1354,
      "outputs": [
        {
          "output_type": "stream",
          "name": "stdout",
          "text": [
            "[[ 1  4]\n",
            " [ 0 13]]\n"
          ]
        }
      ]
    },
    {
      "cell_type": "code",
      "source": [
        "pd.crosstab(y_test,y_pred)"
      ],
      "metadata": {
        "colab": {
          "base_uri": "https://localhost:8080/",
          "height": 143
        },
        "id": "MJqR8Px2PxeW",
        "outputId": "efaf1586-ff8b-4489-8353-77be0ee091b0"
      },
      "execution_count": 1355,
      "outputs": [
        {
          "output_type": "execute_result",
          "data": {
            "text/plain": [
              "col_0            0   1\n",
              "Error_aceptable       \n",
              "0                1   4\n",
              "1                0  13"
            ],
            "text/html": [
              "\n",
              "  <div id=\"df-d7f3c8ef-b5e3-4099-a823-eac7aaf58237\">\n",
              "    <div class=\"colab-df-container\">\n",
              "      <div>\n",
              "<style scoped>\n",
              "    .dataframe tbody tr th:only-of-type {\n",
              "        vertical-align: middle;\n",
              "    }\n",
              "\n",
              "    .dataframe tbody tr th {\n",
              "        vertical-align: top;\n",
              "    }\n",
              "\n",
              "    .dataframe thead th {\n",
              "        text-align: right;\n",
              "    }\n",
              "</style>\n",
              "<table border=\"1\" class=\"dataframe\">\n",
              "  <thead>\n",
              "    <tr style=\"text-align: right;\">\n",
              "      <th>col_0</th>\n",
              "      <th>0</th>\n",
              "      <th>1</th>\n",
              "    </tr>\n",
              "    <tr>\n",
              "      <th>Error_aceptable</th>\n",
              "      <th></th>\n",
              "      <th></th>\n",
              "    </tr>\n",
              "  </thead>\n",
              "  <tbody>\n",
              "    <tr>\n",
              "      <th>0</th>\n",
              "      <td>1</td>\n",
              "      <td>4</td>\n",
              "    </tr>\n",
              "    <tr>\n",
              "      <th>1</th>\n",
              "      <td>0</td>\n",
              "      <td>13</td>\n",
              "    </tr>\n",
              "  </tbody>\n",
              "</table>\n",
              "</div>\n",
              "      <button class=\"colab-df-convert\" onclick=\"convertToInteractive('df-d7f3c8ef-b5e3-4099-a823-eac7aaf58237')\"\n",
              "              title=\"Convert this dataframe to an interactive table.\"\n",
              "              style=\"display:none;\">\n",
              "        \n",
              "  <svg xmlns=\"http://www.w3.org/2000/svg\" height=\"24px\"viewBox=\"0 0 24 24\"\n",
              "       width=\"24px\">\n",
              "    <path d=\"M0 0h24v24H0V0z\" fill=\"none\"/>\n",
              "    <path d=\"M18.56 5.44l.94 2.06.94-2.06 2.06-.94-2.06-.94-.94-2.06-.94 2.06-2.06.94zm-11 1L8.5 8.5l.94-2.06 2.06-.94-2.06-.94L8.5 2.5l-.94 2.06-2.06.94zm10 10l.94 2.06.94-2.06 2.06-.94-2.06-.94-.94-2.06-.94 2.06-2.06.94z\"/><path d=\"M17.41 7.96l-1.37-1.37c-.4-.4-.92-.59-1.43-.59-.52 0-1.04.2-1.43.59L10.3 9.45l-7.72 7.72c-.78.78-.78 2.05 0 2.83L4 21.41c.39.39.9.59 1.41.59.51 0 1.02-.2 1.41-.59l7.78-7.78 2.81-2.81c.8-.78.8-2.07 0-2.86zM5.41 20L4 18.59l7.72-7.72 1.47 1.35L5.41 20z\"/>\n",
              "  </svg>\n",
              "      </button>\n",
              "      \n",
              "  <style>\n",
              "    .colab-df-container {\n",
              "      display:flex;\n",
              "      flex-wrap:wrap;\n",
              "      gap: 12px;\n",
              "    }\n",
              "\n",
              "    .colab-df-convert {\n",
              "      background-color: #E8F0FE;\n",
              "      border: none;\n",
              "      border-radius: 50%;\n",
              "      cursor: pointer;\n",
              "      display: none;\n",
              "      fill: #1967D2;\n",
              "      height: 32px;\n",
              "      padding: 0 0 0 0;\n",
              "      width: 32px;\n",
              "    }\n",
              "\n",
              "    .colab-df-convert:hover {\n",
              "      background-color: #E2EBFA;\n",
              "      box-shadow: 0px 1px 2px rgba(60, 64, 67, 0.3), 0px 1px 3px 1px rgba(60, 64, 67, 0.15);\n",
              "      fill: #174EA6;\n",
              "    }\n",
              "\n",
              "    [theme=dark] .colab-df-convert {\n",
              "      background-color: #3B4455;\n",
              "      fill: #D2E3FC;\n",
              "    }\n",
              "\n",
              "    [theme=dark] .colab-df-convert:hover {\n",
              "      background-color: #434B5C;\n",
              "      box-shadow: 0px 1px 3px 1px rgba(0, 0, 0, 0.15);\n",
              "      filter: drop-shadow(0px 1px 2px rgba(0, 0, 0, 0.3));\n",
              "      fill: #FFFFFF;\n",
              "    }\n",
              "  </style>\n",
              "\n",
              "      <script>\n",
              "        const buttonEl =\n",
              "          document.querySelector('#df-d7f3c8ef-b5e3-4099-a823-eac7aaf58237 button.colab-df-convert');\n",
              "        buttonEl.style.display =\n",
              "          google.colab.kernel.accessAllowed ? 'block' : 'none';\n",
              "\n",
              "        async function convertToInteractive(key) {\n",
              "          const element = document.querySelector('#df-d7f3c8ef-b5e3-4099-a823-eac7aaf58237');\n",
              "          const dataTable =\n",
              "            await google.colab.kernel.invokeFunction('convertToInteractive',\n",
              "                                                     [key], {});\n",
              "          if (!dataTable) return;\n",
              "\n",
              "          const docLinkHtml = 'Like what you see? Visit the ' +\n",
              "            '<a target=\"_blank\" href=https://colab.research.google.com/notebooks/data_table.ipynb>data table notebook</a>'\n",
              "            + ' to learn more about interactive tables.';\n",
              "          element.innerHTML = '';\n",
              "          dataTable['output_type'] = 'display_data';\n",
              "          await google.colab.output.renderOutput(dataTable, element);\n",
              "          const docLink = document.createElement('div');\n",
              "          docLink.innerHTML = docLinkHtml;\n",
              "          element.appendChild(docLink);\n",
              "        }\n",
              "      </script>\n",
              "    </div>\n",
              "  </div>\n",
              "  "
            ]
          },
          "metadata": {},
          "execution_count": 1355
        }
      ]
    },
    {
      "cell_type": "code",
      "source": [
        "# K-fold cross validation\n",
        "from sklearn.model_selection import cross_val_score\n",
        "accuracies = cross_val_score(estimator = regLog, X = x_train, y=y_train, cv= 10)\n",
        "accuracies.mean()"
      ],
      "metadata": {
        "colab": {
          "base_uri": "https://localhost:8080/"
        },
        "id": "3upstAhZP_99",
        "outputId": "c3a108bb-7947-4265-9988-33959bd53a27"
      },
      "execution_count": 1356,
      "outputs": [
        {
          "output_type": "execute_result",
          "data": {
            "text/plain": [
              "0.7666666666666667"
            ]
          },
          "metadata": {},
          "execution_count": 1356
        }
      ]
    },
    {
      "cell_type": "code",
      "source": [
        "accuracies"
      ],
      "metadata": {
        "colab": {
          "base_uri": "https://localhost:8080/"
        },
        "id": "NYTPwoYrRSlj",
        "outputId": "453e92e4-2926-4ba9-efe3-69e51bdf7c08"
      },
      "execution_count": 1357,
      "outputs": [
        {
          "output_type": "execute_result",
          "data": {
            "text/plain": [
              "array([0.66666667, 0.4       , 0.8       , 0.8       , 1.        ,\n",
              "       0.6       , 0.8       , 0.8       , 0.8       , 1.        ])"
            ]
          },
          "metadata": {},
          "execution_count": 1357
        }
      ]
    },
    {
      "cell_type": "code",
      "source": [
        "# Creamos un plot para ver la frontera de clasificación\n",
        "\n",
        "from matplotlib.colors import ListedColormap\n",
        "x_set, y_set = x_test, y_test\n",
        "X1,X2 = np.meshgrid(np.arange(start = x_set[:,0].min()-1,stop = x_set[:,0].max()+1,step=0.01),\n",
        "                    np.arange(start = x_set[:,1].min()-1,stop = x_set[:,1].max()+1,step=0.01))\n",
        "\n",
        "plt.contourf(X1,X2, regLog.predict(np.array([X1.ravel(),X2.ravel()]).T).reshape(X1.shape),\n",
        "             alpha=0.75, cmap = ListedColormap(('magenta', 'cyan')))\n",
        "\n",
        "plt.xlim(X1.min(), X1.max())\n",
        "plt.ylim(X2.min(), X2.max())\n",
        "\n",
        "for i,j in enumerate(np.unique(y_set)):\n",
        "    plt.scatter(x_set[y_set == j,0],x_set[y_set== j,1],\n",
        "                c = ListedColormap(('red','blue'))(i),label = j)\n",
        "\n",
        "    \n",
        "plt.title('Clasificador')\n",
        "plt.xlabel('PIP')\n",
        "plt.ylabel('V_out')\n",
        "plt.legend()\n",
        "plt.show()"
      ],
      "metadata": {
        "colab": {
          "base_uri": "https://localhost:8080/",
          "height": 527
        },
        "id": "XYV3__FZRfRv",
        "outputId": "e87fe7ea-c2d1-4f17-c33e-8d7b1d7e566e"
      },
      "execution_count": 1358,
      "outputs": [
        {
          "output_type": "stream",
          "name": "stderr",
          "text": [
            "<ipython-input-1358-6a47bccf67e4>:15: UserWarning: *c* argument looks like a single numeric RGB or RGBA sequence, which should be avoided as value-mapping will have precedence in case its length matches with *x* & *y*.  Please use the *color* keyword-argument or provide a 2D array with a single row if you intend to specify the same RGB or RGBA value for all points.\n",
            "  plt.scatter(x_set[y_set == j,0],x_set[y_set== j,1],\n"
          ]
        },
        {
          "output_type": "display_data",
          "data": {
            "text/plain": [
              "<Figure size 640x480 with 1 Axes>"
            ],
            "image/png": "[encoded data removed]"
          },
          "metadata": {}
        }
      ]
    },
    {
      "cell_type": "markdown",
      "source": [
        "**Balanceo ROS**"
      ],
      "metadata": {
        "id": "wPPdkD3ObAik"
      }
    },
    {
      "cell_type": "code",
      "source": [
        "len(x_train)"
      ],
      "metadata": {
        "id": "RdSF84gza7DM",
        "colab": {
          "base_uri": "https://localhost:8080/"
        },
        "outputId": "bb632793-a7e0-499c-d87b-103047746bb8"
      },
      "execution_count": 1359,
      "outputs": [
        {
          "output_type": "execute_result",
          "data": {
            "text/plain": [
              "51"
            ]
          },
          "metadata": {},
          "execution_count": 1359
        }
      ]
    },
    {
      "cell_type": "code",
      "source": [
        "train = np.concatenate([x_train, y_train.values.reshape(-1,1)], axis=1)"
      ],
      "metadata": {
        "id": "6AcmgRBpbIuB"
      },
      "execution_count": 1360,
      "outputs": []
    },
    {
      "cell_type": "code",
      "source": [
        "#transformamos a un dataFrame\n",
        "train = pd.DataFrame(train,columns=['PIP','V_out','Error_aceptable'])"
      ],
      "metadata": {
        "id": "FSezxm0dcP00"
      },
      "execution_count": 1361,
      "outputs": []
    },
    {
      "cell_type": "code",
      "source": [
        "#obtenemos la clase con error que no se acepta\n",
        "train_class_0 = train.query(\"Error_aceptable == 0\")\n",
        "train_class_0.head()"
      ],
      "metadata": {
        "id": "QDMRy1cjdFkS",
        "colab": {
          "base_uri": "https://localhost:8080/",
          "height": 206
        },
        "outputId": "e63cc833-dd22-4b38-e9cf-5d61996d5254"
      },
      "execution_count": 1362,
      "outputs": [
        {
          "output_type": "execute_result",
          "data": {
            "text/plain": [
              "         PIP     V_out  Error_aceptable\n",
              "10  0.439871 -0.994151              0.0\n",
              "12  1.027543  0.061645              0.0\n",
              "13 -1.064570 -0.851101              0.0\n",
              "16 -1.691421 -1.289859              0.0\n",
              "20 -0.845173 -1.356046              0.0"
            ],
            "text/html": [
              "\n",
              "  <div id=\"df-54da400c-928f-4aba-bc59-fd22c76c72f3\">\n",
              "    <div class=\"colab-df-container\">\n",
              "      <div>\n",
              "<style scoped>\n",
              "    .dataframe tbody tr th:only-of-type {\n",
              "        vertical-align: middle;\n",
              "    }\n",
              "\n",
              "    .dataframe tbody tr th {\n",
              "        vertical-align: top;\n",
              "    }\n",
              "\n",
              "    .dataframe thead th {\n",
              "        text-align: right;\n",
              "    }\n",
              "</style>\n",
              "<table border=\"1\" class=\"dataframe\">\n",
              "  <thead>\n",
              "    <tr style=\"text-align: right;\">\n",
              "      <th></th>\n",
              "      <th>PIP</th>\n",
              "      <th>V_out</th>\n",
              "      <th>Error_aceptable</th>\n",
              "    </tr>\n",
              "  </thead>\n",
              "  <tbody>\n",
              "    <tr>\n",
              "      <th>10</th>\n",
              "      <td>0.439871</td>\n",
              "      <td>-0.994151</td>\n",
              "      <td>0.0</td>\n",
              "    </tr>\n",
              "    <tr>\n",
              "      <th>12</th>\n",
              "      <td>1.027543</td>\n",
              "      <td>0.061645</td>\n",
              "      <td>0.0</td>\n",
              "    </tr>\n",
              "    <tr>\n",
              "      <th>13</th>\n",
              "      <td>-1.064570</td>\n",
              "      <td>-0.851101</td>\n",
              "      <td>0.0</td>\n",
              "    </tr>\n",
              "    <tr>\n",
              "      <th>16</th>\n",
              "      <td>-1.691421</td>\n",
              "      <td>-1.289859</td>\n",
              "      <td>0.0</td>\n",
              "    </tr>\n",
              "    <tr>\n",
              "      <th>20</th>\n",
              "      <td>-0.845173</td>\n",
              "      <td>-1.356046</td>\n",
              "      <td>0.0</td>\n",
              "    </tr>\n",
              "  </tbody>\n",
              "</table>\n",
              "</div>\n",
              "      <button class=\"colab-df-convert\" onclick=\"convertToInteractive('df-54da400c-928f-4aba-bc59-fd22c76c72f3')\"\n",
              "              title=\"Convert this dataframe to an interactive table.\"\n",
              "              style=\"display:none;\">\n",
              "        \n",
              "  <svg xmlns=\"http://www.w3.org/2000/svg\" height=\"24px\"viewBox=\"0 0 24 24\"\n",
              "       width=\"24px\">\n",
              "    <path d=\"M0 0h24v24H0V0z\" fill=\"none\"/>\n",
              "    <path d=\"M18.56 5.44l.94 2.06.94-2.06 2.06-.94-2.06-.94-.94-2.06-.94 2.06-2.06.94zm-11 1L8.5 8.5l.94-2.06 2.06-.94-2.06-.94L8.5 2.5l-.94 2.06-2.06.94zm10 10l.94 2.06.94-2.06 2.06-.94-2.06-.94-.94-2.06-.94 2.06-2.06.94z\"/><path d=\"M17.41 7.96l-1.37-1.37c-.4-.4-.92-.59-1.43-.59-.52 0-1.04.2-1.43.59L10.3 9.45l-7.72 7.72c-.78.78-.78 2.05 0 2.83L4 21.41c.39.39.9.59 1.41.59.51 0 1.02-.2 1.41-.59l7.78-7.78 2.81-2.81c.8-.78.8-2.07 0-2.86zM5.41 20L4 18.59l7.72-7.72 1.47 1.35L5.41 20z\"/>\n",
              "  </svg>\n",
              "      </button>\n",
              "      \n",
              "  <style>\n",
              "    .colab-df-container {\n",
              "      display:flex;\n",
              "      flex-wrap:wrap;\n",
              "      gap: 12px;\n",
              "    }\n",
              "\n",
              "    .colab-df-convert {\n",
              "      background-color: #E8F0FE;\n",
              "      border: none;\n",
              "      border-radius: 50%;\n",
              "      cursor: pointer;\n",
              "      display: none;\n",
              "      fill: #1967D2;\n",
              "      height: 32px;\n",
              "      padding: 0 0 0 0;\n",
              "      width: 32px;\n",
              "    }\n",
              "\n",
              "    .colab-df-convert:hover {\n",
              "      background-color: #E2EBFA;\n",
              "      box-shadow: 0px 1px 2px rgba(60, 64, 67, 0.3), 0px 1px 3px 1px rgba(60, 64, 67, 0.15);\n",
              "      fill: #174EA6;\n",
              "    }\n",
              "\n",
              "    [theme=dark] .colab-df-convert {\n",
              "      background-color: #3B4455;\n",
              "      fill: #D2E3FC;\n",
              "    }\n",
              "\n",
              "    [theme=dark] .colab-df-convert:hover {\n",
              "      background-color: #434B5C;\n",
              "      box-shadow: 0px 1px 3px 1px rgba(0, 0, 0, 0.15);\n",
              "      filter: drop-shadow(0px 1px 2px rgba(0, 0, 0, 0.3));\n",
              "      fill: #FFFFFF;\n",
              "    }\n",
              "  </style>\n",
              "\n",
              "      <script>\n",
              "        const buttonEl =\n",
              "          document.querySelector('#df-54da400c-928f-4aba-bc59-fd22c76c72f3 button.colab-df-convert');\n",
              "        buttonEl.style.display =\n",
              "          google.colab.kernel.accessAllowed ? 'block' : 'none';\n",
              "\n",
              "        async function convertToInteractive(key) {\n",
              "          const element = document.querySelector('#df-54da400c-928f-4aba-bc59-fd22c76c72f3');\n",
              "          const dataTable =\n",
              "            await google.colab.kernel.invokeFunction('convertToInteractive',\n",
              "                                                     [key], {});\n",
              "          if (!dataTable) return;\n",
              "\n",
              "          const docLinkHtml = 'Like what you see? Visit the ' +\n",
              "            '<a target=\"_blank\" href=https://colab.research.google.com/notebooks/data_table.ipynb>data table notebook</a>'\n",
              "            + ' to learn more about interactive tables.';\n",
              "          element.innerHTML = '';\n",
              "          dataTable['output_type'] = 'display_data';\n",
              "          await google.colab.output.renderOutput(dataTable, element);\n",
              "          const docLink = document.createElement('div');\n",
              "          docLink.innerHTML = docLinkHtml;\n",
              "          element.appendChild(docLink);\n",
              "        }\n",
              "      </script>\n",
              "    </div>\n",
              "  </div>\n",
              "  "
            ]
          },
          "metadata": {},
          "execution_count": 1362
        }
      ]
    },
    {
      "cell_type": "code",
      "source": [
        "train_class_0.shape"
      ],
      "metadata": {
        "id": "d-fEIC9od-hF",
        "colab": {
          "base_uri": "https://localhost:8080/"
        },
        "outputId": "38252d97-ff30-42bf-e5d4-cad9d2c37de6"
      },
      "execution_count": 1363,
      "outputs": [
        {
          "output_type": "execute_result",
          "data": {
            "text/plain": [
              "(11, 3)"
            ]
          },
          "metadata": {},
          "execution_count": 1363
        }
      ]
    },
    {
      "cell_type": "code",
      "source": [
        "n_class0 = len(train.query(\"Error_aceptable == 0\"))\n",
        "n_class1 = len(train.query(\"Error_aceptable == 1\"))\n",
        "print ( n_class0, n_class1)"
      ],
      "metadata": {
        "id": "dT5-Ihr9eYPH",
        "colab": {
          "base_uri": "https://localhost:8080/"
        },
        "outputId": "13c2c459-a340-48d9-a70f-190369760c3e"
      },
      "execution_count": 1364,
      "outputs": [
        {
          "output_type": "stream",
          "name": "stdout",
          "text": [
            "11 40\n"
          ]
        }
      ]
    },
    {
      "cell_type": "code",
      "source": [
        "i_class0_downsampled = train_class_0.sample(n_class1,replace = True)\n",
        "len(i_class0_downsampled)"
      ],
      "metadata": {
        "id": "_O8rbXHteooC",
        "colab": {
          "base_uri": "https://localhost:8080/"
        },
        "outputId": "5faf6b35-58c9-4310-a6ae-05bff0470403"
      },
      "execution_count": 1365,
      "outputs": [
        {
          "output_type": "execute_result",
          "data": {
            "text/plain": [
              "40"
            ]
          },
          "metadata": {},
          "execution_count": 1365
        }
      ]
    },
    {
      "cell_type": "code",
      "source": [
        "new_train = pd.concat([train.query(\"Error_aceptable == 1\"), i_class0_downsampled], axis=0)\n",
        "new_train[['Error_aceptable']].value_counts()"
      ],
      "metadata": {
        "id": "GNx57b8Cf8XJ",
        "colab": {
          "base_uri": "https://localhost:8080/"
        },
        "outputId": "e11117bd-247b-4bba-cd50-1e897115a562"
      },
      "execution_count": 1366,
      "outputs": [
        {
          "output_type": "execute_result",
          "data": {
            "text/plain": [
              "Error_aceptable\n",
              "0.0                40\n",
              "1.0                40\n",
              "dtype: int64"
            ]
          },
          "metadata": {},
          "execution_count": 1366
        }
      ]
    },
    {
      "cell_type": "code",
      "source": [
        "new_x_train =new_train.loc[:,['PIP','V_out']].values\n",
        "new_y_train =new_train.loc[:,['Error_aceptable']].values\n"
      ],
      "metadata": {
        "id": "goZRoMnwp4B8"
      },
      "execution_count": 1367,
      "outputs": []
    },
    {
      "cell_type": "code",
      "source": [
        "new_y_train = pd.Series(new_y_train.reshape(-1,))"
      ],
      "metadata": {
        "id": "aqxq7WRBqaj0"
      },
      "execution_count": 1368,
      "outputs": []
    },
    {
      "cell_type": "code",
      "source": [
        "new_train.loc[:,['Error_aceptable']].value_counts()"
      ],
      "metadata": {
        "id": "hQe-MasIqqGP",
        "colab": {
          "base_uri": "https://localhost:8080/"
        },
        "outputId": "de01bc4a-71cc-40c9-f7de-366c61c49d30"
      },
      "execution_count": 1369,
      "outputs": [
        {
          "output_type": "execute_result",
          "data": {
            "text/plain": [
              "Error_aceptable\n",
              "0.0                40\n",
              "1.0                40\n",
              "dtype: int64"
            ]
          },
          "metadata": {},
          "execution_count": 1369
        }
      ]
    },
    {
      "cell_type": "markdown",
      "source": [
        "Nuevo modelo con nueva data"
      ],
      "metadata": {
        "id": "8KdI3JtXpj0P"
      }
    },
    {
      "cell_type": "code",
      "source": [
        "model= LogisticRegression()\n",
        "model. fit(new_x_train, new_y_train)"
      ],
      "metadata": {
        "id": "8fYNkdHkpeNY",
        "colab": {
          "base_uri": "https://localhost:8080/",
          "height": 75
        },
        "outputId": "bdf16008-bcc9-4c02-8bf9-f84476229f30"
      },
      "execution_count": 1370,
      "outputs": [
        {
          "output_type": "execute_result",
          "data": {
            "text/plain": [
              "LogisticRegression()"
            ],
            "text/html": [
              "<style>#sk-container-id-60 {color: black;background-color: white;}#sk-container-id-60 pre{padding: 0;}#sk-container-id-60 div.sk-toggleable {background-color: white;}#sk-container-id-60 label.sk-toggleable__label {cursor: pointer;display: block;width: 100%;margin-bottom: 0;padding: 0.3em;box-sizing: border-box;text-align: center;}#sk-container-id-60 label.sk-toggleable__label-arrow:before {content: \"▸\";float: left;margin-right: 0.25em;color: #696969;}#sk-container-id-60 label.sk-toggleable__label-arrow:hover:before {color: black;}#sk-container-id-60 div.sk-estimator:hover label.sk-toggleable__label-arrow:before {color: black;}#sk-container-id-60 div.sk-toggleable__content {max-height: 0;max-width: 0;overflow: hidden;text-align: left;background-color: #f0f8ff;}#sk-container-id-60 div.sk-toggleable__content pre {margin: 0.2em;color: black;border-radius: 0.25em;background-color: #f0f8ff;}#sk-container-id-60 input.sk-toggleable__control:checked~div.sk-toggleable__content {max-height: 200px;max-width: 100%;overflow: auto;}#sk-container-id-60 input.sk-toggleable__control:checked~label.sk-toggleable__label-arrow:before {content: \"▾\";}#sk-container-id-60 div.sk-estimator input.sk-toggleable__control:checked~label.sk-toggleable__label {background-color: #d4ebff;}#sk-container-id-60 div.sk-label input.sk-toggleable__control:checked~label.sk-toggleable__label {background-color: #d4ebff;}#sk-container-id-60 input.sk-hidden--visually {border: 0;clip: rect(1px 1px 1px 1px);clip: rect(1px, 1px, 1px, 1px);height: 1px;margin: -1px;overflow: hidden;padding: 0;position: absolute;width: 1px;}#sk-container-id-60 div.sk-estimator {font-family: monospace;background-color: #f0f8ff;border: 1px dotted black;border-radius: 0.25em;box-sizing: border-box;margin-bottom: 0.5em;}#sk-container-id-60 div.sk-estimator:hover {background-color: #d4ebff;}#sk-container-id-60 div.sk-parallel-item::after {content: \"\";width: 100%;border-bottom: 1px solid gray;flex-grow: 1;}#sk-container-id-60 div.sk-label:hover label.sk-toggleable__label {background-color: #d4ebff;}#sk-container-id-60 div.sk-serial::before {content: \"\";position: absolute;border-left: 1px solid gray;box-sizing: border-box;top: 0;bottom: 0;left: 50%;z-index: 0;}#sk-container-id-60 div.sk-serial {display: flex;flex-direction: column;align-items: center;background-color: white;padding-right: 0.2em;padding-left: 0.2em;position: relative;}#sk-container-id-60 div.sk-item {position: relative;z-index: 1;}#sk-container-id-60 div.sk-parallel {display: flex;align-items: stretch;justify-content: center;background-color: white;position: relative;}#sk-container-id-60 div.sk-item::before, #sk-container-id-60 div.sk-parallel-item::before {content: \"\";position: absolute;border-left: 1px solid gray;box-sizing: border-box;top: 0;bottom: 0;left: 50%;z-index: -1;}#sk-container-id-60 div.sk-parallel-item {display: flex;flex-direction: column;z-index: 1;position: relative;background-color: white;}#sk-container-id-60 div.sk-parallel-item:first-child::after {align-self: flex-end;width: 50%;}#sk-container-id-60 div.sk-parallel-item:last-child::after {align-self: flex-start;width: 50%;}#sk-container-id-60 div.sk-parallel-item:only-child::after {width: 0;}#sk-container-id-60 div.sk-dashed-wrapped {border: 1px dashed gray;margin: 0 0.4em 0.5em 0.4em;box-sizing: border-box;padding-bottom: 0.4em;background-color: white;}#sk-container-id-60 div.sk-label label {font-family: monospace;font-weight: bold;display: inline-block;line-height: 1.2em;}#sk-container-id-60 div.sk-label-container {text-align: center;}#sk-container-id-60 div.sk-container {/* jupyter's `normalize.less` sets `[hidden] { display: none; }` but bootstrap.min.css set `[hidden] { display: none !important; }` so we also need the `!important` here to be able to override the default hidden behavior on the sphinx rendered scikit-learn.org. See: https://github.com/scikit-learn/scikit-learn/issues/21755 */display: inline-block !important;position: relative;}#sk-container-id-60 div.sk-text-repr-fallback {display: none;}</style><div id=\"sk-container-id-60\" class=\"sk-top-container\"><div class=\"sk-text-repr-fallback\"><pre>LogisticRegression()</pre><b>In a Jupyter environment, please rerun this cell to show the HTML representation or trust the notebook. <br />On GitHub, the HTML representation is unable to render, please try loading this page with nbviewer.org.</b></div><div class=\"sk-container\" hidden><div class=\"sk-item\"><div class=\"sk-estimator sk-toggleable\"><input class=\"sk-toggleable__control sk-hidden--visually\" id=\"sk-estimator-id-60\" type=\"checkbox\" checked><label for=\"sk-estimator-id-60\" class=\"sk-toggleable__label sk-toggleable__label-arrow\">LogisticRegression</label><div class=\"sk-toggleable__content\"><pre>LogisticRegression()</pre></div></div></div></div></div>"
            ]
          },
          "metadata": {},
          "execution_count": 1370
        }
      ]
    },
    {
      "cell_type": "code",
      "source": [
        "y_pred2 = model.predict(x_test)"
      ],
      "metadata": {
        "id": "fwCSwDAzq1Ip"
      },
      "execution_count": 1371,
      "outputs": []
    },
    {
      "cell_type": "code",
      "source": [
        "print(classification_report(y_test, y_pred))\n",
        "print(classification_report(y_test, y_pred2))\n"
      ],
      "metadata": {
        "id": "zjBCrpm_pljf",
        "colab": {
          "base_uri": "https://localhost:8080/"
        },
        "outputId": "fbce7200-b6db-476a-df31-4ea7ee230e9c"
      },
      "execution_count": 1372,
      "outputs": [
        {
          "output_type": "stream",
          "name": "stdout",
          "text": [
            "              precision    recall  f1-score   support\n",
            "\n",
            "           0       1.00      0.20      0.33         5\n",
            "           1       0.76      1.00      0.87        13\n",
            "\n",
            "    accuracy                           0.78        18\n",
            "   macro avg       0.88      0.60      0.60        18\n",
            "weighted avg       0.83      0.78      0.72        18\n",
            "\n",
            "              precision    recall  f1-score   support\n",
            "\n",
            "           0       0.83      1.00      0.91         5\n",
            "           1       1.00      0.92      0.96        13\n",
            "\n",
            "    accuracy                           0.94        18\n",
            "   macro avg       0.92      0.96      0.93        18\n",
            "weighted avg       0.95      0.94      0.95        18\n",
            "\n"
          ]
        }
      ]
    }
  ]
}